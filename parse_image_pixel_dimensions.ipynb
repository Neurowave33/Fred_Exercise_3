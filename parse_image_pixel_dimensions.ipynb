{
 "cells": [
  {
   "cell_type": "code",
   "execution_count": 2,
   "metadata": {},
   "outputs": [
    {
     "data": {
      "text/plain": [
       "parse_image_pixel_dimensions (generic function with 1 method)"
      ]
     },
     "execution_count": 2,
     "metadata": {},
     "output_type": "execute_result"
    }
   ],
   "source": [
    "using PyPlot; pygui(true); using Printf; using Statistics\n",
    "\n",
    "\"\"\"\n",
    "function parse_image_pixel_dimensions(imagefilename)\n",
    "\n",
    "A function that takes as input a string representing the filename, and then loads the image file, displays it,\n",
    "extracts the red, blue, and green channels into separate variables, \n",
    "and returns those variables. \n",
    "    --> takes an image name as an argument, and outputs three separate 360x640 matrices,\n",
    "    one for red, one for blue, and one for green. \n",
    "\n",
    "- PARAMETERS:\n",
    "    - data     a string representing the filename\n",
    "\n",
    "- OPTIONAL PARAMETERS:\n",
    "    - NA\n",
    "\n",
    "- EXAMPLE CALL:\n",
    "function parse_image_pixel_dimensions(\"/Users/freduquillas/Dropbox/PNI/NEU_314/NEU_314_2019/el-capitan.png\")\n",
    "\n",
    "\"\"\"\n",
    "\n",
    "function parse_image_pixel_dimensions(imagefilename)\n",
    "    \n",
    "    # load the image file\n",
    "    figure(1); # start a figure\n",
    "    clf();     # clear it\n",
    "    image = imread(imagefilename)\n",
    "    imshow(convert(Array{Float32,3}, image))\n",
    "    \n",
    "    println(\"Reset with git reset --mixed\")\n",
    "    \n",
    "    # Extract the red, blue, and green channels, and store as separate variables\n",
    "    Red_channel_dimensions = image[:,:,1];\n",
    "    Blue_channel_dimensions = image[:,:,2];\n",
    "    Green_channel_dimensions = image[:,:,3];\n",
    "    \n",
    "    return Red_channel_dimensions, Blue_channel_dimensions, Green_channel_dimensions\n",
    "end\n",
    "    \n",
    "\n",
    "# figure(1); clf(); overlay_spikes(data, current_is_on = false)"
   ]
  }
 ],
 "metadata": {
  "kernelspec": {
   "display_name": "Julia 1.2.0",
   "language": "julia",
   "name": "julia-1.2"
  },
  "language_info": {
   "file_extension": ".jl",
   "mimetype": "application/julia",
   "name": "julia",
   "version": "1.2.0"
  }
 },
 "nbformat": 4,
 "nbformat_minor": 2
}
