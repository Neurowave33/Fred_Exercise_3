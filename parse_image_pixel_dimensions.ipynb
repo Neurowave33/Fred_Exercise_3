{
 "cells": [
  {
   "cell_type": "code",
   "execution_count": 69,
   "metadata": {},
   "outputs": [
    {
     "data": {
      "text/plain": [
       "parse_image_pixel_dimensions (generic function with 1 method)"
      ]
     },
     "execution_count": 69,
     "metadata": {},
     "output_type": "execute_result"
    }
   ],
   "source": [
    "using PyPlot; pygui(true); using Printf; using Statistics\n",
    "\n",
    "\"\"\"\n",
    "function parse_image_pixel_dimensions(imagefilename)\n",
    "\n",
    "A function that takes as input a string representing the filename, and then loads the image file, displays it,\n",
    "extracts the red, blue, and green channels into separate variables, \n",
    "and returns those variables. \n",
    "    --> takes an image name as an argument, and outputs three separate 360x640 matrices,\n",
    "    one for red, one for blue, and one for green. \n",
    "\n",
    "- PARAMETERS:\n",
    "    - data     a string representing the filename\n",
    "\n",
    "- OPTIONAL PARAMETERS:\n",
    "    - NA\n",
    "\n",
    "- EXAMPLE CALL:\n",
    "function parse_image_pixel_dimensions(\"/Users/freduquillas/Dropbox/PNI/NEU_314/NEU_314_2019/el-capitan.png\")\n",
    "\n",
    "\"\"\"\n",
    "\n",
    "function parse_image_pixel_dimensions(imagefilename)\n",
    "    \n",
    "    # load the image file\n",
    "    figure(1); # start a figure\n",
    "    clf();     # clear it\n",
    "    image = imread(imagefilename)\n",
    "    imshow(convert(Array{Float32,3}, image))\n",
    "    \n",
    "    println(\"Reset with git reset --mixed\")\n",
    "    \n",
    "    # Extract the red, blue, and green channels, and store as separate variables\n",
    "    Red_channel_dimensions = image[:,:,1];\n",
    "    Green_channel_dimensions = image[:,:,2];\n",
    "    Blue_channel_dimensions = image[:,:,3];\n",
    "    \n",
    "    return Red_channel_dimensions, Green_channel_dimensions, Blue_channel_dimensions\n",
    "end\n"
   ]
  },
  {
   "cell_type": "code",
   "execution_count": 70,
   "metadata": {},
   "outputs": [],
   "source": [
    "# Make a new 360x640x3 matrix; let’s call this image2. \n",
    "# Set image2[:,:,1] to be the G channel from the original image, image2[:,:,2] \n",
    "# to be the B channel from the original image, and image2[:,:,3] to be the R channel from the original image.\n",
    "\n",
    "# Use imshow() to display the original image and image2 side by side \n",
    "\n",
    "# (hint: use subplot(1,2,1) to first make a left-hand axis and work with that; \n",
    "# and then subplot(1,2,2) to make a right-hand axis, and work with that). \n",
    "\n",
    "# The commands figure(figsize=[x,y]), title(\"your text goes here\"), and axis(\"off\") can be \n",
    "# used to initialize a figure specified by x and y (width and height in inches), add a title, \n",
    "# and turn off the axis, respectively, for aesthetics. \n",
    "# Commit and push both the code and image to your repo.\n",
    "\n",
    "\n",
    "#  Read in the original image\n",
    "image = imread(\"/Users/freduquillas/Dropbox/PNI/NEU_314/NEU_314_2019/el-capitan.png\");\n",
    "\n",
    "#  Generate new matrix full of random numbers with the same dimensions as the El Capitan sample image above\n",
    "image2 = randn(360,640,3);"
   ]
  },
  {
   "cell_type": "code",
   "execution_count": 71,
   "metadata": {},
   "outputs": [],
   "source": [
    "# Set image2[:,:,1] to be the G channel from the original image\n",
    "image2[:,:,1] = image[:,:,2];\n",
    "\n",
    "# Set image2[:,:,2] to be the B channel from the original image\n",
    "image2[:,:,2] = image[:,:,3];\n",
    "\n",
    "# Set image2[:,:,3] to be the R channel from the original image\n",
    "image2[:,:,3] = image[:,:,1];"
   ]
  },
  {
   "cell_type": "code",
   "execution_count": 73,
   "metadata": {},
   "outputs": [],
   "source": [
    "subplot(1,2,1) # Plot the second image\n",
    "imshow(convert(Array{Float32,3}, image))\n",
    "title(\"Image1\\nOriginal Image\")\n",
    "axis(\"off\")\n",
    "\n",
    "\n",
    "subplot(1,2,2) # Plot the second image\n",
    "imshow(convert(Array{Float32,3}, image2))\n",
    "title(\"Image2\\nRed and Green channel flip\")\n",
    "axis(\"off\")\n",
    "\n",
    "\n",
    "savefig(\"Jxtp_Image1_and_Image2.png\", dpi=180, bbox_inches=\"tight\") # Save the figure as a png file in our current directory."
   ]
  }
 ],
 "metadata": {
  "kernelspec": {
   "display_name": "Julia 1.2.0",
   "language": "julia",
   "name": "julia-1.2"
  },
  "language_info": {
   "file_extension": ".jl",
   "mimetype": "application/julia",
   "name": "julia",
   "version": "1.2.0"
  }
 },
 "nbformat": 4,
 "nbformat_minor": 2
}
