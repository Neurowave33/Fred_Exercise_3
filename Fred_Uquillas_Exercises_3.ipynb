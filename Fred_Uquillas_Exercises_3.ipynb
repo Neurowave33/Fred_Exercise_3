{
 "cells": [
  {
   "cell_type": "markdown",
   "metadata": {},
   "source": [
    "# 1(A)\n",
    "Write a function that takes as input a string representing the filename, and then loads the image file, displays it, and extracts the red, blue, and green channels into separate variables, and returns the content of those variables. In other words, your function should take an image name as an argument and have three outputs, that in the case of our example image would each be a 360x640 matrix. Commit and push your file to the repository you just set up."
   ]
  },
  {
   "cell_type": "code",
   "execution_count": 6,
   "metadata": {},
   "outputs": [
    {
     "data": {
      "text/plain": [
       "parse_image_pixel_dimensions (generic function with 1 method)"
      ]
     },
     "execution_count": 6,
     "metadata": {},
     "output_type": "execute_result"
    }
   ],
   "source": [
    "using PyPlot; pygui(true); using Printf; using Statistics\n",
    "\n",
    "\"\"\"\n",
    "function parse_image_pixel_dimensions(imagefilename)\n",
    "\n",
    "A function that takes as input a string representing the filename, and then loads the image file, displays it,\n",
    "extracts the red, blue, and green channels into separate variables, \n",
    "and returns those variables. \n",
    "    --> takes an image name as an argument, and outputs three separate 360x640 matrices,\n",
    "    one for red, one for blue, and one for green. \n",
    "\n",
    "- PARAMETERS:\n",
    "    - data     a string representing the filename\n",
    "\n",
    "- OPTIONAL PARAMETERS:\n",
    "    - NA\n",
    "\n",
    "- EXAMPLE CALL:\n",
    "function parse_image_pixel_dimensions(\"/Users/freduquillas/Dropbox/PNI/NEU_314/NEU_314_2019/el-capitan.png\")\n",
    "\n",
    "\"\"\"\n",
    "\n",
    "function parse_image_pixel_dimensions(imagefilename)\n",
    "    \n",
    "    # load the image file\n",
    "    figure(1); # start a figure\n",
    "    clf();     # clear it\n",
    "    image = imread(imagefilename) # read in your image using string notation for the filename\n",
    "    imshow(convert(Array{Float32,3}, image)) # display the image loaded\n",
    "    \n",
    "    println(\"Reset with git reset --mixed\")\n",
    "    \n",
    "    # Extract the red, blue, and green channels, and store as separate variables:\n",
    "    Red_channel_dimensions = image[:,:,1];\n",
    "    Green_channel_dimensions = image[:,:,2];\n",
    "    Blue_channel_dimensions = image[:,:,3];\n",
    "    \n",
    "    return Red_channel_dimensions, Green_channel_dimensions, Blue_channel_dimensions\n",
    "end\n"
   ]
  },
  {
   "cell_type": "markdown",
   "metadata": {},
   "source": [
    "In the above, if we really had had a bug, the output on the terminal would read with an error, and performing the mixed reset, as documented by line \"println(\"Reset with git reset --mixed\")\", would have allowed us to revert the Buggy line of code in a standardized fashion such that when Pushed to Github the version and changed are tracked and documented."
   ]
  },
  {
   "cell_type": "code",
   "execution_count": 7,
   "metadata": {},
   "outputs": [],
   "source": [
    "# Make a new 360x640x3 matrix; let’s call this image2. \n",
    "# Set image2[:,:,1] to be the G channel from the original image, image2[:,:,2] \n",
    "# to be the B channel from the original image, and image2[:,:,3] to be the R channel from the original image.\n",
    "\n",
    "# Use imshow() to display the original image and image2 side by side \n",
    "\n",
    "\n",
    "#  Read in the original image\n",
    "image = imread(\"/Users/freduquillas/Dropbox/PNI/NEU_314/NEU_314_2019/el-capitan.png\");\n",
    "\n",
    "#  Generate new matrix full of random numbers with the same dimensions as the El Capitan sample image above\n",
    "image2 = randn(360,640,3);\n",
    "\n",
    "# Set image2[:,:,1] to be the G channel from the original image\n",
    "image2[:,:,1] = image[:,:,2];\n",
    "\n",
    "# Set image2[:,:,2] to be the B channel from the original image\n",
    "image2[:,:,2] = image[:,:,3];\n",
    "\n",
    "# Set image2[:,:,3] to be the R channel from the original image\n",
    "image2[:,:,3] = image[:,:,1];\n",
    "\n",
    "\n",
    "# Display\n",
    "figure(1); # start a figure\n",
    "clf();     # clear it\n",
    "\n",
    "subplot(1,2,1) # Plot the first image\n",
    "imshow(convert(Array{Float32,3}, image))\n",
    "title(\"Image1\\nOriginal Image\")\n",
    "axis(\"off\")\n",
    "\n",
    "\n",
    "subplot(1,2,2) # Plot the second image\n",
    "imshow(convert(Array{Float32,3}, image2))\n",
    "title(\"Image2\\nRed and Green channel flip\")\n",
    "axis(\"off\")\n",
    "\n",
    "\n",
    "# Save the figure as a png file in our current directory.\n",
    "savefig(\"Jxtp_Image1_and_Image2.png\", dpi=180, bbox_inches=\"tight\") "
   ]
  },
  {
   "cell_type": "markdown",
   "metadata": {},
   "source": [
    "# 1(B)\n",
    "A “circular” rotation of elements in a matrix moves the contents of the matrix such that elements that “fall off” one edge “circle back” to the opposite edge. Write a function that, for given an image, circularly moves only one channel, the red channel (remember, this is the first one) up some number of pixels, p, such that the top p rows now become the bottom p rows. Your function should take two arguments -- 1) your image and 2) the number of pixels you want to shift it by -- and return the shifted image. Display both the original image channel and the result of circularly moving the red channel up by 180 pixels. \n"
   ]
  },
  {
   "cell_type": "code",
   "execution_count": 46,
   "metadata": {},
   "outputs": [
    {
     "data": {
      "text/plain": [
       "shift_image_pixels_Red_channel (generic function with 1 method)"
      ]
     },
     "execution_count": 46,
     "metadata": {},
     "output_type": "execute_result"
    }
   ],
   "source": [
    "using PyPlot; pygui(true); using Printf; using Statistics\n",
    "\n",
    "\"\"\"\n",
    "function shift_image_pixels_Red_channel(imagefilename, p)\n",
    "\n",
    "A function that for any given image, circularly moves only one channel, \n",
    "the red channel up some number of pixels, p, such that the \n",
    "top p rows now become the bottom p rows.\n",
    "\n",
    "\n",
    "- PARAMETERS:\n",
    "    - imagefilename    a string representing the filename\n",
    "    - p                the number of pixels to shift cells up in the Red channel \n",
    "\n",
    "- OPTIONAL PARAMETERS:\n",
    "    - NA\n",
    "\n",
    "- EXAMPLE CALL:\n",
    "function shift_image_pixels_Red_channel(\"/Users/freduquillas/Dropbox/PNI/NEU_314/NEU_314_2019/el-capitan.png\", 180)\n",
    "\n",
    "\"\"\"\n",
    "\n",
    "function shift_image_pixels_Red_channel(imagefilename, p)\n",
    "\n",
    "    # load the image file\n",
    "    image = imread(imagefilename)\n",
    "    \n",
    "    # Extract the red channel, and store it as a separate variable\n",
    "    Red_channel = image[:,:,1];\n",
    "\n",
    "    # Now, shift the Red channel up some number of pixels, p, such that the top p rows now become the bottom p rows.\n",
    "    Shifted_Red_channel = circshift(Red_channel, -p)\n",
    "    \n",
    "    # If we wanted the pixels to move down instead of up, we would remove the negative '-' sign adjacent to the 'p'.\n",
    "    \n",
    "    # Let's make a copy of our original Image Red Channel\n",
    "    image2[:,:,1] = copy(image)[:,:,1] \n",
    "    \n",
    "    # Now ascribe the Shifted_Red_channel to be the new image2's red channel. In other words, replace the\n",
    "    # Red channel from the copied image with the Shifted_Red_Channel.\n",
    "    \n",
    "    image2[:,:,1] = Shifted_Red_channel\n",
    "    \n",
    "    return image2\n",
    "end\n"
   ]
  },
  {
   "cell_type": "markdown",
   "metadata": {},
   "source": [
    "Now display both the original image channel and the result of circularly moving the red channel up by 180 pixels. "
   ]
  },
  {
   "cell_type": "code",
   "execution_count": 49,
   "metadata": {},
   "outputs": [],
   "source": [
    "shift_image_pixels_Red_channel(\"/Users/freduquillas/Dropbox/PNI/NEU_314/NEU_314_2019/el-capitan.png\", 180)\n",
    "\n",
    "image = imread(\"/Users/freduquillas/Dropbox/PNI/NEU_314/NEU_314_2019/el-capitan.png\");\n",
    "\n",
    "figure(1); # start a figure\n",
    "clf();     # clear it\n",
    "\n",
    "subplot(1,2,1) # Plot the first image\n",
    "imshow(convert(Array{Float32,3}, image))\n",
    "title(\"Image1\\nOriginal Image\")\n",
    "axis(\"off\")\n",
    "\n",
    "\n",
    "subplot(1,2,2) # Plot the second image\n",
    "imshow(convert(Array{Float32,3}, image2))\n",
    "title(\"Image2\\nRed channel shifted up 180\")\n",
    "axis(\"off\")\n",
    "\n",
    "\n",
    "# Save the figure as a png file in our current directory.\n",
    "savefig(\"Jxtp_Red_Channel_Shift_Image1_and_Image2.png\", dpi=180, bbox_inches=\"tight\") "
   ]
  }
 ],
 "metadata": {
  "kernelspec": {
   "display_name": "Julia 1.2.0",
   "language": "julia",
   "name": "julia-1.2"
  },
  "language_info": {
   "file_extension": ".jl",
   "mimetype": "application/julia",
   "name": "julia",
   "version": "1.2.0"
  }
 },
 "nbformat": 4,
 "nbformat_minor": 2
}
